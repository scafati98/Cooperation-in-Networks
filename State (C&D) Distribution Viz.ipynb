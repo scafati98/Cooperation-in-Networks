{
  "nbformat": 4,
  "nbformat_minor": 0,
  "metadata": {
    "colab": {
      "name": "Cooperation: C&D Distribution Viz",
      "provenance": [],
      "collapsed_sections": [],
      "toc_visible": true
    },
    "kernelspec": {
      "name": "python3",
      "display_name": "Python 3"
    }
  },
  "cells": [
    {
      "cell_type": "markdown",
      "metadata": {
        "id": "b52YqBzXCY_V"
      },
      "source": [
        "SIMULATIONS TO SAVE THE DISTRIBUTION OF COOPERATORS AND DEFECTORS IN THE NETWORK"
      ]
    },
    {
      "cell_type": "markdown",
      "metadata": {
        "id": "L7HIe1WAvwYn"
      },
      "source": [
        "# Import Dependencies"
      ]
    },
    {
      "cell_type": "code",
      "metadata": {
        "id": "uV2Oa1vRur_J",
        "colab": {
          "base_uri": "https://localhost:8080/"
        },
        "outputId": "c580fb1c-c155-4638-9c90-b595ffc62c6a"
      },
      "source": [
        "# Import Dependencies\n",
        "import numpy as np\n",
        "import networkx as nx\n",
        "import matplotlib.pyplot as plt\n",
        "import random\n",
        "random.seed(246)  \n",
        "import time\n",
        "import datetime\n",
        "import collections\n",
        "\n",
        "plt.style.use('default')#'ggplot')\n",
        "\n",
        "print('Imports sucessful')"
      ],
      "execution_count": null,
      "outputs": [
        {
          "output_type": "stream",
          "text": [
            "Imports sucessful\n"
          ],
          "name": "stdout"
        }
      ]
    },
    {
      "cell_type": "markdown",
      "metadata": {
        "id": "FeeeeYG7v3rC"
      },
      "source": [
        "## Give access to drive\n",
        "To allow the results to be printed in the output file"
      ]
    },
    {
      "cell_type": "code",
      "metadata": {
        "colab": {
          "base_uri": "https://localhost:8080/"
        },
        "id": "Q3b2bn4BrfcO",
        "outputId": "58ad0d6e-1c85-4c8b-be59-c107ebcd91d7"
      },
      "source": [
        "# Allow access to the drive\n",
        "from google.colab import drive\n",
        "drive.mount('/content/drive')"
      ],
      "execution_count": null,
      "outputs": [
        {
          "output_type": "stream",
          "text": [
            "Mounted at /content/drive\n"
          ],
          "name": "stdout"
        }
      ]
    },
    {
      "cell_type": "code",
      "metadata": {
        "id": "2fT6e7hNqgmI"
      },
      "source": [
        "filepath=\"/content/drive/My Drive/Colab Notebooks/NS_proj2_output_files/Output_BA_b110.txt\" \n",
        "folder_output=\"/content/drive/My Drive/Colab Notebooks/NS_proj2_output_files/graphs/\" \n",
        "images_dir = \"/content/drive/My Drive/Colab Notebooks/NS_proj2_output_files/imagens/\""
      ],
      "execution_count": null,
      "outputs": []
    },
    {
      "cell_type": "markdown",
      "metadata": {
        "id": "c9HnjlWMv0Vu"
      },
      "source": [
        "# Parameters"
      ]
    },
    {
      "cell_type": "code",
      "metadata": {
        "id": "JWgb0WdquG1S"
      },
      "source": [
        "# Define the parameters and variables\n",
        "\n",
        "num_simulations=10#100   # NEVER CHANGE THIS VALUE IT IS USED TO DEFINE THE SEED OF THE NETWORK\n",
        "N=10**3\n",
        "number_edges=2\n",
        "\n",
        "number_of_generations=10**4     # Analyze the evolution in stationary stage\n",
        "supervised_generations =10**3\n",
        "\n",
        "# Prisioners Dilema Payoffs\n",
        "T=1.7 # 1<T<2                                           UPDATE HERE\n",
        "R=1\n",
        "P=0\n",
        "S=0"
      ],
      "execution_count": null,
      "outputs": []
    },
    {
      "cell_type": "markdown",
      "metadata": {
        "id": "bkDqS2UHGvrz"
      },
      "source": [
        "# Functions"
      ]
    },
    {
      "cell_type": "code",
      "metadata": {
        "id": "tcYrWXxzxXJx"
      },
      "source": [
        "# Prisioner Dilema\n",
        "def pd_game(my_opinion, opponent_opinion):\n",
        "  if my_opinion== 'C':\n",
        "    if opponent_opinion =='C':\n",
        "      return R\n",
        "    else:\n",
        "      return S\n",
        "  else:\n",
        "    if opponent_opinion =='C':\n",
        "      return T\n",
        "    else:\n",
        "      return P"
      ],
      "execution_count": null,
      "outputs": []
    },
    {
      "cell_type": "code",
      "metadata": {
        "id": "TOYBzZJjmN4O"
      },
      "source": [
        "def print2file(topology,sim_ref,seed,time_spent,fraction_of_cooperators):\n",
        "  # OPEN FILE\n",
        "  file1 = open(filepath,\"a\") \n",
        "\n",
        "  # WRITE stuff\n",
        "  print(f'{datetime.datetime.now()},',\n",
        "        f'{topology}, ',\n",
        "        f'{sim_ref:4d}, ',\n",
        "        f'{seed:2d}, ',\n",
        "        f'{time_spent:0.6f}, ',\n",
        "        f'{N}, ',\n",
        "        f'{number_of_generations}, ',\n",
        "        f'{supervised_generations}, ',\n",
        "        f'{R}, ',\n",
        "        f'{T}, ',\n",
        "        f'{P}, ',\n",
        "        f'{S}, ',\n",
        "        f'{fraction_of_cooperators:0.4f}',\n",
        "        file=file1)\n",
        "\n",
        "  #CLOSE FILE\n",
        "  file1.close()  "
      ],
      "execution_count": null,
      "outputs": []
    },
    {
      "cell_type": "code",
      "metadata": {
        "id": "eXuCHXXRfJpQ"
      },
      "source": [
        "def print_filename2file(filepath,filename):\n",
        "  # OPEN FILE\n",
        "  file1 = open(filepath,\"a\") \n",
        "\n",
        "  # WRITE stuff\n",
        "  print(f'{datetime.datetime.now()},'+\n",
        "        f'{filename}',\n",
        "        file=file1)\n",
        "\n",
        "  #CLOSE FILE\n",
        "  file1.close()  "
      ],
      "execution_count": null,
      "outputs": []
    },
    {
      "cell_type": "code",
      "metadata": {
        "id": "eJcxfvsE7aX_"
      },
      "source": [
        "def count_cooperators(G) -> [int,int]:\n",
        "    # Define a array to count the cooperators and defectors\n",
        "    # each position of the array corresponds to the degree of the node\n",
        "\n",
        "    G_deg = nx.degree_histogram(G)\n",
        "    G_maxdeg = max([b for a, b in zip(G_deg, range(0, len(G_deg)))])\n",
        "\n",
        "    count_coop=np.zeros(G_maxdeg+1, dtype=int)\n",
        "    count_defc=np.zeros(G_maxdeg+1, dtype=int)\n",
        "\n",
        "    for node in G.nodes():\n",
        "        degree=G.degree[node]\n",
        "        if G.nodes(data=True)[node]['state']=='C':\n",
        "            count_coop[degree] +=1\n",
        "        else:\n",
        "            count_defc[degree] +=1\n",
        "\n",
        "    return count_coop, count_defc"
      ],
      "execution_count": null,
      "outputs": []
    },
    {
      "cell_type": "code",
      "metadata": {
        "id": "xHZryUFT7ZTC"
      },
      "source": [
        "def plot_strategy_per_degree(C_beg,D_beg,C_end,D_end,plot_filepath):\n",
        "    labels = np.arange(len(C_beg),dtype=int)\n",
        "    width = 0.8      # the width of the bars: can also be len(x) sequence\n",
        "\n",
        "    a_top=np.zeros(len(C_beg))\n",
        "    b_top=np.zeros(len(C_beg))\n",
        "    a_bot=np.zeros(len(C_beg))\n",
        "    b_bot=np.zeros(len(C_beg))\n",
        "    \n",
        "    for i in range(len(C_beg)):\n",
        "        if C_beg[i]+D_beg[i]==0:\n",
        "            a_top[i]=0;b_top[i]=0;\n",
        "        else:\n",
        "            b_top[i]=C_beg[i]/(C_beg[i]+D_beg[i])\n",
        "            a_top[i]=D_beg[i]/(C_beg[i]+D_beg[i])   \n",
        "\n",
        "        if C_end[i]+D_end[i]==0:\n",
        "            a_bot[i]=0;b_bot[i]=0;\n",
        "        else:\n",
        "            b_bot[i]=C_end[i]/(C_end[i]+D_end[i])\n",
        "            a_bot[i]=D_end[i]/(C_end[i]+D_end[i])              \n",
        "    \n",
        "    fig, ax = plt.subplots(2,1)\n",
        "\n",
        "    # these are matplotlib.patch.Patch properties\n",
        "    props = dict(boxstyle='square', facecolor='white', alpha=0.05)\n",
        "\n",
        "\n",
        "    ax[0].bar(labels, a_top, width, label='D',color='r', hatch= '/',)\n",
        "    ax[0].bar(labels, b_top, width,bottom=a_top,label='C',color='g')\n",
        "    #ax[0].legend()\n",
        "    ax[0].set_xlim(0, np.max(labels)+2)\n",
        "    ax[0].set_ylim(0, 1.1) \n",
        "    ax[0].text(1.02, 0.95, 'Start', transform=ax[0].transAxes, fontsize=12,\n",
        "        verticalalignment='top', bbox=props)\n",
        "\n",
        "    \n",
        "    ax[1].bar(labels, a_bot, width, label='D', color='r', hatch= '/')\n",
        "    ax[1].bar(labels, b_bot, width,bottom=a_bot, label='C',color='g')\n",
        "    #ax[1].legend(loc='lower left')\n",
        "    ax[1].set_xlim(0, np.max(labels)+2)   \n",
        "    ax[1].set_ylim(0, 1.1)  \n",
        "    #ax[1].set_yticklabels([0,0.2,0.4,0.6,0.8,1],) \n",
        "    ax[1].text(1.02, 0.95, 'End', transform=ax[1].transAxes, fontsize=12,\n",
        "        verticalalignment='top', bbox=props)\n",
        "    ax[1].set_xlabel('Degree')   \n",
        "    #fig.set_ylabel('Number of nodes')\n",
        "    fig.suptitle('Strategy distribution per degree',ha='right')\n",
        "    fig.legend(labels=['Defectors','Cooperators'],loc='upper right', ncol=2)\n",
        "\n",
        "    \n",
        "    plt.show()\n",
        "\n",
        "    fig.savefig(plot_filepath,format='svg')"
      ],
      "execution_count": null,
      "outputs": []
    },
    {
      "cell_type": "markdown",
      "metadata": {
        "id": "aPXqSqn6wTfR"
      },
      "source": [
        "# SIMULATION"
      ]
    },
    {
      "cell_type": "markdown",
      "metadata": {
        "id": "I2a1ALVBwcQF"
      },
      "source": [
        "\n",
        "\n",
        "*   FOR cicle over simultations - number defined at the begining\n",
        "   1.   CREATES THE BA GRAPH - to be updated   \n",
        "   2.   FOR over the transient generations\n",
        "   3.   FOR over the supervised generations saving qt. of cooperators\n",
        "   4.   Prints the result in the output file.\n"
      ]
    },
    {
      "cell_type": "code",
      "metadata": {
        "id": "P7rubWD_wX5o",
        "colab": {
          "base_uri": "https://localhost:8080/",
          "height": 998
        },
        "outputId": "b6532fac-adbf-4106-c60c-d16e56614293"
      },
      "source": [
        "tic_master=time.perf_counter()\n",
        "\n",
        "# The total number of simulations is divided into 5 different newtorks\n",
        "# for each topology. This is done controlling the seed\n",
        "seed=21#+sim//(num_simulations//5) # This is the integer division \n",
        "# ______________________________________________________________________________\n",
        "# Create the Network                          ------ CHOOSE ONE -----\n",
        "G = nx.barabasi_albert_graph(N, number_edges, seed = seed); name='BA_RAND'\n",
        "#G = nx.watts_strogatz_graph(N, k = 4, p = 1, seed = seed); name='NWS_1-model'\n",
        "#G = nx.watts_strogatz_graph(N, k = 4, p = 0, seed = seed); name='NWS-model'\n",
        "#G = nx.random_regular_graph(n = N, d = 4, seed = seed); name='Regular-model'\n",
        "# ______________________________________________________________________________\n",
        "# Create a copy of the network to analyse different distribution of defectors\n",
        "Gmod=G; name2='BA__MOD'\n",
        "\n",
        "G_deg = nx.degree_histogram(G)\n",
        "G_maxdeg = max([b for a, b in zip(G_deg, range(0, len(G_deg)))])\n",
        "\n",
        "t_values=np.array([1.8])#[1.5, 1.6, 1.7, 1.8, 1.9, 1.99])\n",
        "\n",
        "evolution_cooperators=[];np.zeros((1,number_of_generations+supervised_generations))\n",
        "legend_str=[]\n",
        "\n",
        "for element in t_values:\n",
        "  T=element\n",
        "  C_BA_RAND_beg=np.zeros((num_simulations,G_maxdeg+1)); D_BA_RAND_beg=np.zeros((num_simulations,G_maxdeg+1))\n",
        "  C_BA_RAND_end=np.zeros((num_simulations,G_maxdeg+1)); D_BA_RAND_end=np.zeros((num_simulations,G_maxdeg+1))\n",
        "  C_BA__MOD_beg=np.zeros((num_simulations,G_maxdeg+1)); D_BA__MOD_beg=np.zeros((num_simulations,G_maxdeg+1))\n",
        "  C_BA__MOD_end=np.zeros((num_simulations,G_maxdeg+1)); D_BA__MOD_end=np.zeros((num_simulations,G_maxdeg+1))\n",
        "\n",
        "\n",
        "\n",
        "\n",
        "  # Iterate over a couple simulations\n",
        "  for sim in range(num_simulations):\n",
        "    \n",
        "  # ______________________________________________________________________________\n",
        "  #                         RUN FIRST PART WITH RANDOM DISTRIBUTION\n",
        "  # ______________________________________________________________________________\n",
        "    # Set the timer for control\n",
        "    tic = time.perf_counter()\n",
        "\n",
        "    # Distribution strategy\n",
        "    # Distribute 50% cooperators and 50% Defectors in the network\n",
        "    states = np.random.choice(['C','D'], size=len(G.nodes()))\n",
        "    nx.set_node_attributes(G, dict(zip(G.nodes(), states)), 'state')\n",
        "\n",
        "\n",
        "    C_BA_RAND_beg[sim], D_BA_RAND_beg[sim] = count_cooperators(G)\n",
        "    # WRITE THE INITIAL DISTRIBUTION ______________________________________________________________________________ First time I Save G\n",
        "  #  str1=folder_output+'G_'+name+'_b'+str(int(T*100))+'_sim'+str(int(sim))+'_beg.txt'\n",
        "  #  nx.write_gml(G, str1)  #nx.read_gml(filepath)\n",
        "  #  print_filename2file(folder_output+'listed_files.txt',str1)\n",
        "    # _____________________________________________________________________________________________________________ First time I Save G\n",
        "    # Initialize the num_cooperators counter\n",
        "\n",
        "    num_cooperators_1=np.zeros(number_of_generations)\n",
        "    # Iterate over the generations:\n",
        "    for g in range(number_of_generations):\n",
        "      # Play the PD to evaluate the fitness\n",
        "      cum_payoff=np.zeros(len(G.nodes()))\n",
        "      for u,v,c in G.edges(data=True):   # u is the first node; v is the second node\n",
        "        cum_payoff[u] += pd_game(G.nodes(data=True)[u]['state'],G.nodes(data=True)[v]['state'])\n",
        "        cum_payoff[v] += pd_game(G.nodes(data=True)[v]['state'],G.nodes(data=True)[u]['state'])\n",
        "      \n",
        "      # Replicate the strategy\n",
        "      for node in G.nodes():\n",
        "        neigs=list(G[node])\n",
        "        neig_selected=random.choice(neigs)\n",
        "      \n",
        "        payoff_diff=cum_payoff[neig_selected]-cum_payoff[node]\n",
        "\n",
        "        # Verify the condition for updating the value\n",
        "        if payoff_diff>0:\n",
        "          # Estimate the probability p\n",
        "          k_higher=np.max([len(neigs),len(list(G[neig_selected]))])\n",
        "          prob=payoff_diff/(k_higher*(T-S))\n",
        "        \n",
        "          # Update the strategy with probability p\n",
        "          if random.random() < prob:\n",
        "            G.nodes[node]['state']=G.nodes[neig_selected]['state']\n",
        "          #else: do nothing\n",
        "\n",
        "      # Store the number of cooperators\n",
        "      for node in G.nodes():\n",
        "        if G.nodes(data=True)[node]['state']=='C':\n",
        "          num_cooperators_1[g] +=1\n",
        "\n",
        "    # Initialize the num_cooperators counter\n",
        "    num_cooperators=np.zeros(supervised_generations)\n",
        "    # Iterate over the SUPERVISED generations:\n",
        "    for g in range(supervised_generations):\n",
        "      # Play the PD to evaluate the fitness\n",
        "      cum_payoff=np.zeros(len(G.nodes()))\n",
        "      for u,v,c in G.edges(data=True):   # u is the first node; v is the second node\n",
        "        cum_payoff[u] += pd_game(G.nodes(data=True)[u]['state'],G.nodes(data=True)[v]['state'])\n",
        "        cum_payoff[v] += pd_game(G.nodes(data=True)[v]['state'],G.nodes(data=True)[u]['state'])\n",
        "\n",
        "      # Replicate the strategy\n",
        "      for node in G.nodes():\n",
        "        neigs=list(G[node])\n",
        "        neig_selected=random.choice(neigs)\n",
        "      \n",
        "        payoff_diff=cum_payoff[neig_selected]-cum_payoff[node]\n",
        "\n",
        "        # Verify the condition for updating the value\n",
        "        if payoff_diff>0:\n",
        "          # Estimate the probability p\n",
        "          k_higher=np.max([len(neigs),len(list(G[neig_selected]))])\n",
        "          prob=payoff_diff/(k_higher*(T-S))\n",
        "        \n",
        "          # Update the strategy with probability p\n",
        "          if random.random() < prob:\n",
        "            G.nodes[node]['state']=G.nodes[neig_selected]['state']\n",
        "        #else: do nothing\n",
        "\n",
        "      # Store the number of cooperators\n",
        "      for node in G.nodes():\n",
        "        if G.nodes(data=True)[node]['state']=='C':\n",
        "          num_cooperators[g] +=1\n",
        "\n",
        "    # Evaluate the time of this simulation\n",
        "    toc = time.perf_counter()\n",
        "    # Print the results in the output file\n",
        "    #print2file(name,sim,seed,toc-tic,np.mean(num_cooperators/len(G.nodes())))\n",
        "    evolution_cooperators=np.append(evolution_cooperators,np.concatenate((num_cooperators_1,num_cooperators),axis=None)/len(G.nodes()),axis=0)\n",
        "    # Print info regarding the execution time and sim_number\n",
        "    print(f\"Simulation {sim:4d}.RAND.  Time spent: {toc - tic:0.4f} seconds   Fraction of coop.=\",np.mean(num_cooperators/len(Gmod.nodes())))\n",
        "\n",
        "\n",
        "\n",
        "    C_BA_RAND_end[sim], D_BA_RAND_end[sim] = count_cooperators(G)\n",
        "    # MAKE THE PLOT ____________________________________________________________________________________________ PLOTTING\n",
        "  #  pic_filepath=images_dir+'degree_G_'+name+'_b'+str(int(T*100))+'_sim'+str(int(sim))+'.svg'\n",
        "  #  plot_strategy_per_degree(C_BA_RAND_beg, D_BA_RAND_beg,\n",
        "  #                           C_BA_RAND_end, D_BA_RAND_end,\n",
        "  #                           pic_filepath)\n",
        "    # WRITE THE FINAL DISTRIBUTION ______________________________________________________________________________ Second time I Save G\n",
        "  #  str1=folder_output+'G_'+name+'_b'+str(int(T*100))+'_sim'+str(int(sim))+'_end.txt'\n",
        "  #  nx.write_gml(finalG, str1)  #nx.read_gml(filepath)\n",
        "  #  print_filename2file(folder_output+'listed_files.txt',str1)\n",
        "    # ___________________________________________________________________________________________________________ Second time I Save G\n",
        "\n",
        "  # ______________________________________________________________________________\n",
        "  #                         RUN SECOND PART WITH DEFINED DISTRIBUTION   (MOD)\n",
        "  # ______________________________________________________________________________\n",
        "    # Set the timer for control\n",
        "    tic = time.perf_counter()\n",
        "\n",
        "    # Distribution strategy\n",
        "    # Distribute 50% cooperators and 50% Defectors in the network\n",
        "    states = np.random.choice(['C','D'], size=len(G.nodes()))\n",
        "    nx.set_node_attributes(G, dict(zip(G.nodes(), states)), 'state')\n",
        "\n",
        "    #Sort according to degree\n",
        "    sorted_degrees = sorted(Gmod.degree, key=lambda x: x[1], reverse=True)\n",
        "\n",
        "    #Make the first 50% detractors and the last 50% cooperators\n",
        "\n",
        "    for i in range(len(sorted_degrees)//100):\n",
        "      Gmod.nodes[sorted_degrees[i][0]]['state'] = 'D'\n",
        "\n",
        "    C_BA__MOD_beg[sim], D_BA__MOD_beg[sim]= count_cooperators(Gmod)\n",
        "\n",
        "    # WRITE THE INITIAL DISTRIBUTION ______________________________________________________________________________ First time I Save Gmod\n",
        "  #  str1=folder_output+'G_'+name2+'_b'+str(int(T*100))+'_sim'+str(int(sim))+'_beg.txt'\n",
        "  #  nx.write_gml(Gmod, str1)  #nx.read_gml(filepath)\n",
        "  #  print_filename2file(folder_output+'listed_files.txt',str1)\n",
        "  # ______________________________________________________________________________________________________________ First time I Save Gmod\n",
        "\n",
        "    num_cooperators_1=np.zeros(number_of_generations)\n",
        "\n",
        "    # Iterate over the generations:\n",
        "    for g in range(number_of_generations):\n",
        "      # Play the PD to evaluate the fitness\n",
        "      cum_payoff=np.zeros(len(Gmod.nodes()))\n",
        "      for u,v,c in Gmod.edges(data=True):   # u is the first node; v is the second node\n",
        "        cum_payoff[u] += pd_game(Gmod.nodes(data=True)[u]['state'],Gmod.nodes(data=True)[v]['state'])\n",
        "        cum_payoff[v] += pd_game(Gmod.nodes(data=True)[v]['state'],Gmod.nodes(data=True)[u]['state'])\n",
        "      \n",
        "      # Replicate the strategy\n",
        "      for node in Gmod.nodes():\n",
        "        neigs=list(Gmod[node])\n",
        "        neig_selected=random.choice(neigs)\n",
        "      \n",
        "        payoff_diff=cum_payoff[neig_selected]-cum_payoff[node]\n",
        "\n",
        "        # Verify the condition for updating the value\n",
        "        if payoff_diff>0:\n",
        "          # Estimate the probability p\n",
        "          k_higher=np.max([len(neigs),len(list(Gmod[neig_selected]))])\n",
        "          prob=payoff_diff/(k_higher*(T-S))\n",
        "        \n",
        "          # Update the strategy with probability p\n",
        "          if random.random() < prob:\n",
        "            Gmod.nodes[node]['state']=Gmod.nodes[neig_selected]['state']\n",
        "          #else: do nothing\n",
        "\n",
        "            # Store the number of cooperators\n",
        "      for node in G.nodes():\n",
        "        if G.nodes(data=True)[node]['state']=='C':\n",
        "          num_cooperators_1[g] +=1\n",
        "\n",
        "    # Initialize the num_cooperators counter\n",
        "    num_cooperators=np.zeros(supervised_generations)\n",
        "    # Iterate over the SUPERVISED generations:\n",
        "    for g in range(supervised_generations):\n",
        "      # Play the PD to evaluate the fitness\n",
        "      cum_payoff=np.zeros(len(Gmod.nodes()))\n",
        "      for u,v,c in Gmod.edges(data=True):   # u is the first node; v is the second node\n",
        "        cum_payoff[u] += pd_game(Gmod.nodes(data=True)[u]['state'],Gmod.nodes(data=True)[v]['state'])\n",
        "        cum_payoff[v] += pd_game(Gmod.nodes(data=True)[v]['state'],Gmod.nodes(data=True)[u]['state'])\n",
        "\n",
        "      # Replicate the strategy\n",
        "      for node in Gmod.nodes():\n",
        "        neigs=list(Gmod[node])\n",
        "        neig_selected=random.choice(neigs)\n",
        "      \n",
        "        payoff_diff=cum_payoff[neig_selected]-cum_payoff[node]\n",
        "\n",
        "        # Verify the condition for updating the value\n",
        "        if payoff_diff>0:\n",
        "          # Estimate the probability p\n",
        "          k_higher=np.max([len(neigs),len(list(Gmod[neig_selected]))])\n",
        "          prob=payoff_diff/(k_higher*(T-S))\n",
        "        \n",
        "          # Update the strategy with probability p\n",
        "          if random.random() < prob:\n",
        "            Gmod.nodes[node]['state']=Gmod.nodes[neig_selected]['state']\n",
        "        #else: do nothing\n",
        "\n",
        "      # Store the number of cooperators\n",
        "      for node in Gmod.nodes():\n",
        "        if Gmod.nodes(data=True)[node]['state']=='C':\n",
        "          num_cooperators[g] +=1\n",
        "\n",
        "\n",
        "    # Evaluate the time of this simulation\n",
        "    toc = time.perf_counter()\n",
        "    # Print the results in the output file\n",
        "    #print2file(name2,sim,seed,toc-tic,np.mean(num_cooperators/len(Gmod.nodes())))\n",
        "    \n",
        "    #evolution_cooperators[sim+num_simulations//2]=np.concatenate((num_cooperators_1,num_cooperators),axis=None)/len(G.nodes())\n",
        "    evolution_cooperators=np.append(evolution_cooperators,np.concatenate((num_cooperators_1,num_cooperators),axis=None)/len(G.nodes()),axis=0)\n",
        "    \n",
        "    # Print info regarding the execution time and sim_number\n",
        "    print(f\"Simulation {sim:4d}. MOD.  Time spent: {toc - tic:0.4f} seconds   Fraction of coop.=\",np.mean(num_cooperators/len(Gmod.nodes())))\n",
        "\n",
        "\n",
        "    C_BA__MOD_end[sim], D_BA__MOD_end[sim]= count_cooperators(Gmod)\n",
        "    # WRITE THE FINAL DISTRIBUTION _______________________________________________________________________________ Second time I Save Gmod\n",
        "  #  str1=folder_output+'G_'+name2+'_b'+str(int(T*100))+'_sim'+str(int(sim))+'_end.txt'\n",
        "  #  nx.write_gml(Gmod, str1)  #nx.read_gml(filepath)\n",
        "  #  print_filename2file(folder_output+'listed_files.txt',str1)\n",
        "  # ______________________________________________________________________________________________________________ Second time I Save Gmod\n",
        "\n",
        "    # MAKE THE PLOT ____________________________________________________________________________________________ PLOTTING\n",
        "  #  pic_filepath=images_dir+'degree_G_'+name2+'_b'+str(int(T*100))+'_sim'+str(int(sim))+'.svg'\n",
        "  #  plot_strategy_per_degree(C_BA__MOD_beg, D_BA__MOD_beg,\n",
        "  #                           C_BA__MOD_end, D_BA__MOD_end,\n",
        "  #                           pic_filepath)\n",
        "\n",
        "\n",
        "  pic_filepath=images_dir+'degree_G_'+name+'_b'+str(int(T*100))+'_sim'+str(int(sim))+'.svg'\n",
        "  legend_str.append('G_'+name+'_b'+str(int(T*100))+'_sim'+str(int(sim)))\n",
        "  plot_strategy_per_degree(C_BA_RAND_beg[sim], D_BA_RAND_beg[sim],\n",
        "                           C_BA_RAND_end[sim],D_BA_RAND_end[sim],\n",
        "                           pic_filepath)\n",
        "\n",
        "  pic_filepath=images_dir+'degree_G_'+name2+'_b'+str(int(T*100))+'_sim'+str(int(sim))+'.svg'\n",
        "  legend_str.append('G_'+name2+'_b'+str(int(T*100))+'_sim'+str(int(sim)))\n",
        "  plot_strategy_per_degree(C_BA__MOD_beg[sim],D_BA__MOD_beg[sim],\n",
        "                           C_BA__MOD_end[sim],D_BA__MOD_end[sim],\n",
        "                           pic_filepath)\n",
        "\n",
        "  # __end sim loop\n",
        "\n",
        "\n",
        "\n",
        "# Evaluate and print the total time of simulation.\n",
        "toc_master = time.perf_counter()\n",
        "print(f\"Time spent: {toc_master - tic_master:0.4f} seconds\")\n",
        "print('TASK FINISHED. RESULTS OUTPUT IN FILE:\\n', filepath)"
      ],
      "execution_count": null,
      "outputs": [
        {
          "output_type": "stream",
          "text": [
            "Simulation    0.RAND.  Time spent: 422.9772 seconds   Fraction of coop.= 0.9896779999999998\n",
            "Simulation    0. MOD.  Time spent: 427.8629 seconds   Fraction of coop.= 0.991298\n",
            "Simulation    1.RAND.  Time spent: 425.1347 seconds   Fraction of coop.= 0.9932989999999999\n",
            "Simulation    1. MOD.  Time spent: 420.8360 seconds   Fraction of coop.= 0.991745\n",
            "Simulation    2.RAND.  Time spent: 426.4643 seconds   Fraction of coop.= 0.9930760000000001\n",
            "Simulation    2. MOD.  Time spent: 421.5718 seconds   Fraction of coop.= 0.984589\n",
            "Simulation    3.RAND.  Time spent: 420.4160 seconds   Fraction of coop.= 0.978831\n",
            "Simulation    3. MOD.  Time spent: 417.7156 seconds   Fraction of coop.= 1.0\n",
            "Simulation    4.RAND.  Time spent: 423.7292 seconds   Fraction of coop.= 0.9813219999999999\n",
            "Simulation    4. MOD.  Time spent: 421.8847 seconds   Fraction of coop.= 0.993851\n",
            "Simulation    5.RAND.  Time spent: 423.2300 seconds   Fraction of coop.= 0.984654\n",
            "Simulation    5. MOD.  Time spent: 418.2469 seconds   Fraction of coop.= 0.9931369999999999\n",
            "Simulation    6.RAND.  Time spent: 422.6855 seconds   Fraction of coop.= 0.9808279999999999\n",
            "Simulation    6. MOD.  Time spent: 416.9683 seconds   Fraction of coop.= 1.0\n",
            "Simulation    7.RAND.  Time spent: 423.8059 seconds   Fraction of coop.= 1.0\n",
            "Simulation    7. MOD.  Time spent: 420.7331 seconds   Fraction of coop.= 0.980982\n",
            "Simulation    8.RAND.  Time spent: 424.3764 seconds   Fraction of coop.= 0.978675\n",
            "Simulation    8. MOD.  Time spent: 421.0276 seconds   Fraction of coop.= 0.976093\n",
            "Simulation    9.RAND.  Time spent: 421.4472 seconds   Fraction of coop.= 0.9739629999999999\n",
            "Simulation    9. MOD.  Time spent: 419.6383 seconds   Fraction of coop.= 0.99591\n"
          ],
          "name": "stdout"
        },
        {
          "output_type": "display_data",
          "data": {
            "image/png": "[encoded data removed]",
            "text/plain": [
              "<Figure size 432x288 with 2 Axes>"
            ]
          },
          "metadata": {
            "tags": []
          }
        },
        {
          "output_type": "display_data",
          "data": {
            "image/png": "[encoded data removed]",
            "text/plain": [
              "<Figure size 432x288 with 2 Axes>"
            ]
          },
          "metadata": {
            "tags": []
          }
        },
        {
          "output_type": "stream",
          "text": [
            "Time spent: 8443.6594 seconds\n",
            "TASK FINISHED. RESULTS OUTPUT IN FILE:\n",
            " /content/drive/My Drive/Colab Notebooks/NS_proj2_output_files/Output_BA_b110.txt\n"
          ],
          "name": "stdout"
        }
      ]
    },
    {
      "cell_type": "code",
      "metadata": {
        "colab": {
          "base_uri": "https://localhost:8080/",
          "height": 449
        },
        "id": "1HQWD0ia3I5p",
        "outputId": "dab6dded-cd98-4a74-ac47-c260fc3c62e4"
      },
      "source": [
        "#len(evolution_cooperators)\n",
        "#num_simulations*(number_of_generations+supervised_generations)\n",
        "\n",
        "min=0\n",
        "max=11000\n",
        "step=1000\n",
        "x2=np.arange(min,max,step)\n",
        "x=np.arange(min,max)\n",
        "\n",
        "evo=np.reshape(evolution_cooperators,(2*num_simulations,number_of_generations+supervised_generations))\n",
        "evo_rand=np.delete(evo, np.s_[1::2], 0)\n",
        "evo_rand2=evo_rand[:,min:max:step]#np.delete(evo_rand, np.arange(0,11000,1000), axis=1)\n",
        "#labels_rand=legend_str[0:2:-1]\n",
        "evo__mod=np.delete(evo, np.s_[::2], 0)\n",
        "evo__mod2=evo__mod[:,min:max:step]#np.delete(evo__mod, np.s_[::500], 1)\n",
        "#labels__mod=legend_str[1:2:-1]\n",
        "\n",
        "\n",
        "fig, ax=plt.subplots()\n",
        "\n",
        "ax.plot(x2,np.transpose(np.mean(evo__mod2,axis=0)), color='orange', marker='s', linestyle='solid', linewidth=0, markersize=8, label = 'Barabasi Albert Modified')\n",
        "ax.plot(x2,np.transpose(np.mean(evo_rand2,axis=0)), color='steelblue', marker='x', linestyle='solid', linewidth=0, markersize=8, label = 'Barabasi Albert')\n",
        "\n",
        "ax.plot(x,np.transpose(np.mean(evo__mod,axis=0)), color='orange', marker=None, linestyle='solid', linewidth=1)\n",
        "ax.plot(x,np.transpose(np.mean(evo_rand,axis=0)), color='steelblue', marker=None, linestyle='solid', linewidth=1)\n",
        "\n",
        "ax.legend(loc = 'best')\n",
        "\n",
        "#plt.title('Fraction of cooperators of SFN with different starting conditions for different values of \"b\"\\n')\n",
        "ax.set_xlabel(\"Generations\")\n",
        "ax.set_ylabel(\"Fraction of cooperators\")\n",
        "\n",
        "#ax.plot(np.transpose(np.mean(evo_rand,axis=0)))\n",
        "#ax.plot(np.transpose(np.mean(evo__mod,axis=0)))\n",
        "#ax.legend(['BA','BA Modified'])\n",
        "#ax.set_xlabel('Generations')\n",
        "#ax.set_ylabel('Graction of cooperators')\n",
        "\n",
        "  \n",
        "fig.show()\n",
        "\n",
        "pic_filepath=images_dir+'Evolution_10sims_b180.svg'\n",
        "fig.savefig(pic_filepath,format='svg')"
      ],
      "execution_count": null,
      "outputs": [
        {
          "output_type": "display_data",
          "data": {
            "image/png": "[encoded data removed]",
            "text/plain": [
              "<Figure size 640x480 with 1 Axes>"
            ]
          },
          "metadata": {
            "tags": []
          }
        }
      ]
    }
  ]
}