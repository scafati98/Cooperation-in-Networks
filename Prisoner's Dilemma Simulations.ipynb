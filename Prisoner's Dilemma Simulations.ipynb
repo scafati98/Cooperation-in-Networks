{
  "nbformat": 4,
  "nbformat_minor": 0,
  "metadata": {
    "colab": {
      "name": "Cooperation: Prisoner's Dilemma Simulations",
      "provenance": [],
      "collapsed_sections": [],
      "toc_visible": true
    },
    "kernelspec": {
      "name": "python3",
      "display_name": "Python 3"
    }
  },
  "cells": [
    {
      "cell_type": "markdown",
      "metadata": {
        "id": "b52YqBzXCY_V"
      },
      "source": [
        "# Cooperation in Networks with Prisioner Dilemma"
      ]
    },
    {
      "cell_type": "markdown",
      "metadata": {
        "id": "kwr756NnRlsg"
      },
      "source": [
        "Made by:\n",
        "* Eugenio Scafati (IST-ULISBOA student 97959)\n",
        "* Ricardo Martins (IST-ULISBOA student 67869)"
      ]
    },
    {
      "cell_type": "markdown",
      "metadata": {
        "id": "9FE1AjAGBuse"
      },
      "source": [
        "## Questions to Answer\n",
        "\n",
        "* How does the topology of the network promotes cooperation between peers?\n",
        "* What is the influence of the temptation to defect in the sustainability of cooperation?"
      ]
    },
    {
      "cell_type": "markdown",
      "metadata": {
        "id": "e76TDzVdusgl"
      },
      "source": [
        "## Network Characteristics\n",
        "Concepts:\n",
        "\n",
        "Models: \n",
        "1. SFN - Barabasi Albert (Z, m, seed)\n",
        "2. Watts–Strogatz Regular Graph (p=0)\n",
        "3. Watts–Strogatz Random Graph (p=1)\t\t\t\t\n",
        "\n",
        "\n",
        "Network chacateristics:\n",
        "* AVG degree suggested =4\n",
        "* Size of network = 1_000\n",
        "* Number of generations to pass trasient time: 10_000\n",
        "* Number of supervised generations: 1_000 \n",
        "\n",
        "Prisioners' Dilema: (C - Cooperator; D - defector)\n",
        "\n",
        "T=b>R=1>S=P=0\n",
        "\n",
        "\n",
        "Free Parameters:\n",
        "* Topology - SFN (BA), Regular, Random\n",
        "* b ]1,2[\n",
        "* Distribution of cooperators and defectors in the BA network\n",
        "\n",
        "\n"
      ]
    },
    {
      "cell_type": "markdown",
      "metadata": {
        "id": "L7HIe1WAvwYn"
      },
      "source": [
        "# Import Dependencies"
      ]
    },
    {
      "cell_type": "code",
      "metadata": {
        "id": "uV2Oa1vRur_J"
      },
      "source": [
        "# Import Dependencies\n",
        "import numpy as np\n",
        "import networkx as nx\n",
        "import matplotlib.pyplot as plt\n",
        "import random\n",
        "random.seed(246)  \n",
        "import time\n",
        "import datetime\n",
        "import collections\n",
        "print('Imports sucessful')"
      ],
      "execution_count": null,
      "outputs": []
    },
    {
      "cell_type": "markdown",
      "metadata": {
        "id": "FeeeeYG7v3rC"
      },
      "source": [
        "## Give access to drive\n",
        "To allow the results to be printed in the output file"
      ]
    },
    {
      "cell_type": "code",
      "metadata": {
        "id": "Q3b2bn4BrfcO"
      },
      "source": [
        "# Allow access to the drive\n",
        "from google.colab import drive\n",
        "drive.mount('/content/drive')"
      ],
      "execution_count": null,
      "outputs": []
    },
    {
      "cell_type": "code",
      "metadata": {
        "id": "2fT6e7hNqgmI"
      },
      "source": [
        "filepath=\"/content/drive/My Drive/Colab Notebooks/NS_proj2_output_files/NS_Proj2_output_file.txt\" \n",
        "folder_output=\"/content/drive/My Drive/Colab Notebooks/NS_proj2_output_files/graphs/\" "
      ],
      "execution_count": null,
      "outputs": []
    },
    {
      "cell_type": "markdown",
      "metadata": {
        "id": "c9HnjlWMv0Vu"
      },
      "source": [
        "# Parameters"
      ]
    },
    {
      "cell_type": "code",
      "metadata": {
        "id": "JWgb0WdquG1S"
      },
      "source": [
        "# Define the parameters and variables\n",
        "\n",
        "num_simulations=100   # NEVER CHANGE THIS VALUE IT IS USED TO DEFINE THE SEED OF THE NETWORK\n",
        "N=10**3\n",
        "number_edges=2\n",
        "\n",
        "number_of_generations=10**4         # Analyze the evolution in stationary stage\n",
        "supervised_generations =10**3\n",
        "\n",
        "# Prisioners Dilema Payoffs\n",
        "T=1.7 # 1<T<2                                           UPDATE HERE\n",
        "R=1\n",
        "P=0\n",
        "S=0"
      ],
      "execution_count": null,
      "outputs": []
    },
    {
      "cell_type": "markdown",
      "metadata": {
        "id": "bkDqS2UHGvrz"
      },
      "source": [
        "# Functions"
      ]
    },
    {
      "cell_type": "code",
      "metadata": {
        "id": "tcYrWXxzxXJx"
      },
      "source": [
        "# Prisioner Dilema\n",
        "def pd_game(my_opinion, opponent_opinion):\n",
        "  if my_opinion== 'C':\n",
        "    if opponent_opinion =='C':\n",
        "      return R\n",
        "    else:\n",
        "      return S\n",
        "  else:\n",
        "    if opponent_opinion =='C':\n",
        "      return T\n",
        "    else:\n",
        "      return P"
      ],
      "execution_count": null,
      "outputs": []
    },
    {
      "cell_type": "code",
      "metadata": {
        "id": "TOYBzZJjmN4O"
      },
      "source": [
        "def print2file(topology,sim_ref,seed,time_spent,fraction_of_cooperators):\n",
        "  # OPEN FILE\n",
        "  file1 = open(filepath,\"a\") \n",
        "\n",
        "  # WRITE stuff\n",
        "  print(f'{datetime.datetime.now()},',\n",
        "        f'{topology}, ',\n",
        "        f'{sim_ref:4d}, ',\n",
        "        f'{seed:2d}, ',\n",
        "        f'{time_spent:0.6f}, ',\n",
        "        f'{N}, ',\n",
        "        f'{number_of_generations}, ',\n",
        "        f'{supervised_generations}, ',\n",
        "        f'{R}, ',\n",
        "        f'{T}, ',\n",
        "        f'{P}, ',\n",
        "        f'{S}, ',\n",
        "        f'{fraction_of_cooperators:0.4f}',\n",
        "        file=file1)\n",
        "\n",
        "  #CLOSE FILE\n",
        "  file1.close()  "
      ],
      "execution_count": null,
      "outputs": []
    },
    {
      "cell_type": "code",
      "metadata": {
        "id": "eXuCHXXRfJpQ"
      },
      "source": [
        "def print_filename2file(filepath,filename):\n",
        "  # OPEN FILE\n",
        "  file1 = open(filepath,\"a\") \n",
        "\n",
        "  # WRITE stuff\n",
        "  print(f'{datetime.datetime.now()},',\n",
        "        f'{filename}',\n",
        "        file=file1)\n",
        "\n",
        "  #CLOSE FILE\n",
        "  file1.close()  "
      ],
      "execution_count": null,
      "outputs": []
    },
    {
      "cell_type": "markdown",
      "metadata": {
        "id": "aPXqSqn6wTfR"
      },
      "source": [
        "# SIMULATION"
      ]
    },
    {
      "cell_type": "markdown",
      "metadata": {
        "id": "I2a1ALVBwcQF"
      },
      "source": [
        "\n",
        "\n",
        "*   FOR cicle over simultations - number defined at the begining\n",
        "   1.   CREATES THE BA GRAPH - to be updated   \n",
        "   2.   FOR over the transient generations\n",
        "   3.   FOR over the supervised generations saving qt. of cooperators\n",
        "   4.   Prints the result in the output file.\n"
      ]
    },
    {
      "cell_type": "code",
      "metadata": {
        "id": "P7rubWD_wX5o"
      },
      "source": [
        "tic_master=time.perf_counter()\n",
        "\n",
        "# Iterate over a couple simulations\n",
        "for sim in range(num_simulations):\n",
        "  \n",
        "  # The total number of simulations is divided into 5 different newtorks\n",
        "  # for each topology. This is done controlling the seed\n",
        "  seed=21+sim//(num_simulations//5) # This is the integer division \n",
        "# ______________________________________________________________________________\n",
        "  # --------------------------------------------------- select one\n",
        "  # Create the Network                          -\n",
        "  G = nx.barabasi_albert_graph(N, number_edges, seed = seed); name='BA_RAND'\n",
        "  #G = nx.watts_strogatz_graph(N, k = 4, p = 1, seed = seed); name='NWS_1-model'\n",
        "  #G = nx.watts_strogatz_graph(N, k = 4, p = 0, seed = seed); name='NWS-model'\n",
        "  #G = nx.random_regular_graph(n = N, d = 4, seed = seed); name='Regular-model'\n",
        "\n",
        "# ______________________________________________________________________________\n",
        "\n",
        "  # Set the timer for control\n",
        "  tic = time.perf_counter()\n",
        "\n",
        "  # --------------------------------------------------- DISTRIBUTION STRATEGY\n",
        "  # --------------------------------------------------- select one (A or B)\n",
        "\n",
        "  # STRATEGY A\n",
        "  # Distribute 50% cooperators and 50% Defectors in the network\n",
        "  states = np.random.choice(['C','D'], size=len(G.nodes()))\n",
        "  nx.set_node_attributes(G, dict(zip(G.nodes(), states)), 'state')\n",
        "\n",
        "  # STRATEGY B\n",
        "#  # Create a copy of the network to analyse different distribution of defectors\n",
        "#  name='BA__MOD'\n",
        "#  # Distribute 50% cooperators and 50% Defectors in the network\n",
        "#  states = np.random.choice(['C','D'], size=len(G.nodes()))\n",
        "#  nx.set_node_attributes(G, dict(zip(G.nodes(), states)), 'state')\n",
        "#  #Sort according to degree\n",
        "#  sorted_degrees = sorted(G.degree, key=lambda x: x[1], reverse=True)\n",
        "#  #Make the first 50% detractors and the last 50% cooperators\n",
        "#  for i in range(len(sorted_degrees)//100):\n",
        "#    G.nodes[sorted_degrees[i][0]]['state'] = 'D' \n",
        "\n",
        "\n",
        "\n",
        "  # --------------------------------------------------- TRASIENT STAGE\n",
        "  # Iterate over the generations:\n",
        "  for g in range(number_of_generations):\n",
        "    # Play the PD to evaluate the fitness\n",
        "    cum_payoff=np.zeros(len(G.nodes()))\n",
        "    for u,v,c in G.edges(data=True):   # u is the first node; v is the second node\n",
        "      cum_payoff[u] += pd_game(G.nodes(data=True)[u]['state'],\n",
        "                               G.nodes(data=True)[v]['state'])\n",
        "      cum_payoff[v] += pd_game(G.nodes(data=True)[v]['state'],\n",
        "                               G.nodes(data=True)[u]['state'])\n",
        "    \n",
        "    # Replicate the strategy\n",
        "    for node in G.nodes():\n",
        "      neigs=list(G[node])\n",
        "      neig_selected=random.choice(neigs)\n",
        "    \n",
        "      payoff_diff=cum_payoff[neig_selected]-cum_payoff[node]\n",
        "\n",
        "      # Verify the condition for updating the value\n",
        "      if payoff_diff>0:\n",
        "        # Estimate the probability p\n",
        "        k_higher=np.max([len(neigs),len(list(G[neig_selected]))])\n",
        "        prob=payoff_diff/(k_higher*(T-S))\n",
        "      \n",
        "        # Update the strategy with probability p\n",
        "        if random.random() < prob:\n",
        "          G.nodes[node]['state']=G.nodes[neig_selected]['state']\n",
        "        #else: do nothing\n",
        "\n",
        "  # --------------------------------------------------- SUPERVISED STAGE\n",
        "  # Initialize the num_cooperators counter\n",
        "  num_cooperators=np.zeros(supervised_generations)\n",
        "  # Iterate over the SUPERVISED generations:\n",
        "  for g in range(supervised_generations):\n",
        "    # Play the PD to evaluate the fitness\n",
        "    cum_payoff=np.zeros(len(G.nodes()))\n",
        "    for u,v,c in G.edges(data=True):   # u is the first node; v is the second node\n",
        "      cum_payoff[u] += pd_game(G.nodes(data=True)[u]['state'],\n",
        "                               G.nodes(data=True)[v]['state'])\n",
        "      cum_payoff[v] += pd_game(G.nodes(data=True)[v]['state'],\n",
        "                               G.nodes(data=True)[u]['state'])\n",
        "\n",
        "    # Replicate the strategy\n",
        "    for node in G.nodes():\n",
        "      neigs=list(G[node])\n",
        "      neig_selected=random.choice(neigs)\n",
        "    \n",
        "      payoff_diff=cum_payoff[neig_selected]-cum_payoff[node]\n",
        "\n",
        "      # Verify the condition for updating the value\n",
        "      if payoff_diff>0:\n",
        "        # Estimate the probability p\n",
        "        k_higher=np.max([len(neigs),len(list(G[neig_selected]))])\n",
        "        prob=payoff_diff/(k_higher*(T-S))\n",
        "      \n",
        "        # Update the strategy with probability p\n",
        "        if random.random() < prob:\n",
        "          G.nodes[node]['state']=G.nodes[neig_selected]['state']\n",
        "      #else: do nothing\n",
        "\n",
        "    # Store the number of cooperators\n",
        "    for node in G.nodes():\n",
        "      if G.nodes(data=True)[node]['state']=='C':\n",
        "        num_cooperators[g] +=1\n",
        "\n",
        "  # Evaluate the time of this simulation\n",
        "  toc = time.perf_counter()\n",
        "  # Print the results in the output file\n",
        "  print2file(name,sim,seed,toc-tic,np.mean(num_cooperators/len(G.nodes())))\n",
        "  # Print info regarding the execution time and sim_number\n",
        "  print(f\"Simulation {sim:4d}.RAND.  Time spent: {toc - tic:0.4f} seconds   Fraction of coop.=\",\n",
        "        np.around(np.mean(num_cooperators/len(G.nodes())),4))\n",
        "\n",
        "# __end sim loop\n",
        "\n",
        "# Evaluate and print the total time of simulation.\n",
        "toc_master = time.perf_counter()\n",
        "print(f\"Time spent: {toc_master - tic_master:0.4f} seconds\")\n",
        "print('TASK FINISHED. RESULTS OUTPUT IN FILE:\\n', filepath)"
      ],
      "execution_count": null,
      "outputs": []
    },
    {
      "cell_type": "markdown",
      "metadata": {
        "id": "bTEMqgG_fwSG"
      },
      "source": [
        "Results are printed in the output files"
      ]
    }
  ]
}