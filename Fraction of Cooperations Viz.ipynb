{
  "nbformat": 4,
  "nbformat_minor": 0,
  "metadata": {
    "colab": {
      "name": "Net Science - PD: Fraction of cooperators",
      "provenance": [],
      "collapsed_sections": []
    },
    "kernelspec": {
      "name": "python3",
      "display_name": "Python 3"
    }
  },
  "cells": [
    {
      "cell_type": "code",
      "metadata": {
        "colab": {
          "base_uri": "https://localhost:8080/"
        },
        "id": "5_Oy4CjwPBgr",
        "outputId": "b3b82cfc-6f5c-44ef-e924-b8eb604f3164"
      },
      "source": [
        "# Import Dependencies\n",
        "import numpy as np\n",
        "import networkx as nx\n",
        "import matplotlib.pyplot as plt\n",
        "import random\n",
        "random.seed(246)  \n",
        "import time\n",
        "import datetime\n",
        "import collections\n",
        "import pandas as pd\n",
        "\n",
        "print('Imports sucessful')"
      ],
      "execution_count": null,
      "outputs": [
        {
          "output_type": "stream",
          "text": [
            "Imports sucessful\n"
          ],
          "name": "stdout"
        }
      ]
    },
    {
      "cell_type": "code",
      "metadata": {
        "colab": {
          "base_uri": "https://localhost:8080/"
        },
        "id": "A73PGs7wPEK2",
        "outputId": "afd3dccf-8ea5-49a9-c0ba-45671bdcd3ee"
      },
      "source": [
        "# Allow access to the drive\n",
        "from google.colab import drive\n",
        "drive.mount('/content/drive')"
      ],
      "execution_count": null,
      "outputs": [
        {
          "output_type": "stream",
          "text": [
            "Mounted at /content/drive\n"
          ],
          "name": "stdout"
        }
      ]
    },
    {
      "cell_type": "code",
      "metadata": {
        "id": "2VAAH_IxPFux"
      },
      "source": [
        "filepath_random=\"/content/drive/My Drive/Colab Notebooks/NS_proj2_output_files/Final outputs/random.txt\" \n",
        "filepath_regular=\"/content/drive/My Drive/Colab Notebooks/NS_proj2_output_files/Final outputs/regular.txt\"\n",
        "filepath_BAs=\"/content/drive/My Drive/Colab Notebooks/NS_proj2_output_files/Final outputs/BA_both.txt\" "
      ],
      "execution_count": null,
      "outputs": []
    },
    {
      "cell_type": "code",
      "metadata": {
        "id": "pFWbBD0cQFB_"
      },
      "source": [
        "def read_file(filepath):\n",
        "  data = pd.read_csv (filepath)\n",
        "  data.to_csv (filepath, index=None)\n",
        "  return data\n",
        "#data.columns = ['first_column','second_column',...]"
      ],
      "execution_count": null,
      "outputs": []
    },
    {
      "cell_type": "markdown",
      "metadata": {
        "id": "M6sVWCuZUmfw"
      },
      "source": [
        "##READ AND CREATE ALL THE DATA SETS FOR EACH TOPOLOGY"
      ]
    },
    {
      "cell_type": "code",
      "metadata": {
        "id": "YPVsg2yKBz_S"
      },
      "source": [
        "regular = read_file(filepath_regular)\n",
        "random = read_file(filepath_random)\n",
        "BAs = read_file(filepath_BAs)\n",
        "ba_mod = BAs[BAs.Topology ==\" BA__MOD\"]\n",
        "ba_rand = BAs[BAs.Topology ==\" BA_RAND\"]"
      ],
      "execution_count": null,
      "outputs": []
    },
    {
      "cell_type": "code",
      "metadata": {
        "id": "EbHvdEMRQHWW"
      },
      "source": [
        "data = pd.concat(objs = [regular, random, BAs])"
      ],
      "execution_count": null,
      "outputs": []
    },
    {
      "cell_type": "code",
      "metadata": {
        "id": "kmPWaUqPCw2P"
      },
      "source": [
        "data.head()"
      ],
      "execution_count": null,
      "outputs": []
    },
    {
      "cell_type": "code",
      "metadata": {
        "id": "Fej2SwWfQK97"
      },
      "source": [
        "data.describe()"
      ],
      "execution_count": null,
      "outputs": []
    },
    {
      "cell_type": "code",
      "metadata": {
        "id": "J7vlnodkTEM4"
      },
      "source": [
        "data[[\"Topology\",\"T\", \"qt_coop\"]].groupby([\"Topology\",\"T\"]).describe()"
      ],
      "execution_count": null,
      "outputs": []
    },
    {
      "cell_type": "markdown",
      "metadata": {
        "id": "-hQVn9aadUNl"
      },
      "source": [
        "#Models evaluation\n"
      ]
    },
    {
      "cell_type": "code",
      "metadata": {
        "colab": {
          "base_uri": "https://localhost:8080/",
          "height": 297
        },
        "id": "dPDjcUu3dPF9",
        "outputId": "bcb6ba2c-6166-4af5-cf51-346193cd2ae8"
      },
      "source": [
        "#MEANS\n",
        "\n",
        "fig = plt.figure()\n",
        "fig, ax = plt.subplots()\n",
        "\n",
        "\n",
        "y_mean_reg=regular[[\"T\", \"qt_coop\"]].groupby(\"T\").mean()\n",
        "y_mean_ba_rand=ba_rand[[\"T\", \"qt_coop\"]].groupby(\"T\").mean()\n",
        "y_mean_ran=random[[\"T\", \"qt_coop\"]].groupby(\"T\").mean()\n",
        "\n",
        "\n",
        "plt.plot(y_mean_reg, color='yellowgreen', marker='o', linestyle='solid', linewidth=1, markersize=8, label = 'Regular')\n",
        "plt.plot(y_mean_ran, color='tomato', marker='^', linestyle='solid', linewidth=1, markersize=8, label = 'Random')\n",
        "plt.plot(y_mean_ba_rand, color='steelblue', marker='x', linestyle='solid', linewidth=1, markersize=8, label = 'Barabasi Albert')\n",
        "\n",
        "plt.legend(loc = 'best')\n",
        "\n",
        "#plt.title('Fraction of cooperators for different topologies and values of \"b\"\\n')\n",
        "plt.xlabel(\"Temptation to defect b\")\n",
        "plt.ylabel(\"Fraction of cooperators\")\n",
        "\n",
        "\n",
        "save_results_to = '/content/drive/My Drive/Colab Notebooks/NS_proj2_output_files/Final outputs/'\n",
        "plt.savefig(save_results_to + 'all_models.png', dpi = 300)\n",
        "\n",
        "plt.show()"
      ],
      "execution_count": null,
      "outputs": [
        {
          "output_type": "display_data",
          "data": {
            "text/plain": [
              "<Figure size 432x288 with 0 Axes>"
            ]
          },
          "metadata": {
            "tags": []
          }
        },
        {
          "output_type": "display_data",
          "data": {
            "image/png": "[encoded data removed]",
            "text/plain": [
              "<Figure size 432x288 with 1 Axes>"
            ]
          },
          "metadata": {
            "tags": [],
            "needs_background": "light"
          }
        }
      ]
    },
    {
      "cell_type": "markdown",
      "metadata": {
        "id": "IHmqUD31ee96"
      },
      "source": [
        "##How the initial condition affects the fraction of cooperators in SFN"
      ]
    },
    {
      "cell_type": "code",
      "metadata": {
        "colab": {
          "base_uri": "https://localhost:8080/",
          "height": 297
        },
        "id": "-yL-tyOBTTla",
        "outputId": "9ea6fabf-c699-42a5-f1b8-c746b33e5397"
      },
      "source": [
        "#MEANS\n",
        "fig = plt.figure()\n",
        "fig, ax = plt.subplots()\n",
        "\n",
        "y_mean_ba_mod=ba_mod[[\"T\", \"qt_coop\"]].groupby(\"T\").mean()\n",
        "y_mean_ba_rand=ba_rand[[\"T\", \"qt_coop\"]].groupby(\"T\").mean()\n",
        "\n",
        "plt.plot(y_mean_ba_mod, color='orange', marker='s', linestyle='solid', linewidth=1, markersize=8, label = 'Barabasi Albert Modified')\n",
        "plt.plot(y_mean_ba_rand, color='steelblue', marker='x', linestyle='solid', linewidth=1, markersize=8, label = 'Barabasi Albert')\n",
        "\n",
        "plt.legend(loc = 'best')\n",
        "\n",
        "#plt.title('Fraction of cooperators of SFN with different starting conditions for different values of \"b\"\\n')\n",
        "plt.xlabel(\"Temptation to defect b\")\n",
        "plt.ylabel(\"Fraction of cooperators\")\n",
        "\n",
        "\n",
        "save_results_to = '/content/drive/My Drive/Colab Notebooks/NS_proj2_output_files/Final outputs/'\n",
        "plt.savefig(save_results_to + 'BA-models.png', dpi = 300)\n",
        "\n",
        "plt.show()"
      ],
      "execution_count": null,
      "outputs": [
        {
          "output_type": "display_data",
          "data": {
            "text/plain": [
              "<Figure size 432x288 with 0 Axes>"
            ]
          },
          "metadata": {
            "tags": []
          }
        },
        {
          "output_type": "display_data",
          "data": {
            "image/png": "[encoded data removed]",
            "text/plain": [
              "<Figure size 432x288 with 1 Axes>"
            ]
          },
          "metadata": {
            "tags": [],
            "needs_background": "light"
          }
        }
      ]
    }
  ]
}